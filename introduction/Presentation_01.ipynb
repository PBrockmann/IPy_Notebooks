{
 "metadata": {
  "name": "",
  "signature": "sha256:69ac6261dcedd10e30f19006fcb956f0a95ab9d32dfa31bcdc31716520aa25b6"
 },
 "nbformat": 3,
 "nbformat_minor": 0,
 "worksheets": [
  {
   "cells": [
    {
     "cell_type": "heading",
     "level": 1,
     "metadata": {
      "slideshow": {
       "slide_type": "slide"
      }
     },
     "source": [
      "The IPython Notebook: A Comprehensive Tool for Data Science"
     ]
    },
    {
     "cell_type": "heading",
     "level": 5,
     "metadata": {
      "slideshow": {
       "slide_type": "-"
      }
     },
     "source": [
      "- created 17 june 2014<br>\n",
      "- revised 16 setembre 2014 "
     ]
    },
    {
     "cell_type": "heading",
     "level": 4,
     "metadata": {
      "slideshow": {
       "slide_type": "-"
      }
     },
     "source": [
      "\n",
      "Patrick BROCKMANN - LSCE (Climate and Environment Sciences Laboratory)<br>\n",
      "\n",
      "<img align=\"left\" width=\"40%\" src=\"http://www.lsce.ipsl.fr/Css/img/banniere_LSCE_75.png\" \\><br><br>\n"
     ]
    },
    {
     "cell_type": "markdown",
     "metadata": {
      "slideshow": {
       "slide_type": "skip"
      }
     },
     "source": [
      "<img src=\"files/images/line_separator2.png\" width=20%/>"
     ]
    },
    {
     "cell_type": "heading",
     "level": 2,
     "metadata": {
      "slideshow": {
       "slide_type": "skip"
      }
     },
     "source": [
      "A very good introduction to what is IPython Notebook by Brian Granger"
     ]
    },
    {
     "cell_type": "code",
     "collapsed": false,
     "input": [
      "from IPython.display import YouTubeVideo\n",
      "YouTubeVideo('nRHBdkxVn48')"
     ],
     "language": "python",
     "metadata": {
      "slideshow": {
       "slide_type": "skip"
      }
     },
     "outputs": [
      {
       "html": [
        "\n",
        "        <iframe\n",
        "            width=\"400\"\n",
        "            height=300\"\n",
        "            src=\"https://www.youtube.com/embed/nRHBdkxVn48\"\n",
        "            frameborder=\"0\"\n",
        "            allowfullscreen\n",
        "        ></iframe>\n",
        "        "
       ],
       "metadata": {},
       "output_type": "pyout",
       "prompt_number": 1,
       "text": [
        "<IPython.lib.display.YouTubeVideo at 0xb1c3552c>"
       ]
      }
     ],
     "prompt_number": 1
    },
    {
     "cell_type": "heading",
     "level": 4,
     "metadata": {
      "slideshow": {
       "slide_type": "skip"
      }
     },
     "source": [
      "The script from 0:00 to 1:32"
     ]
    },
    {
     "cell_type": "markdown",
     "metadata": {
      "slideshow": {
       "slide_type": "skip"
      }
     },
     "source": [
      "[...]\n",
      "Today, I want to introduce you to the IPython Notebook and in particuliar\n",
      "describe how the notebook is emerging as an important tool for Data Science.\n",
      "\n",
      "If you have a bunch of data, the first thing you'll notice \n",
      "it that data is useless on its own.\n",
      "To be usefull, you need to leverage the data to tell a story.\n",
      "\n",
      "In the process of telling that story, there are many different things that\n",
      "are coming into play :\n",
      "* you'll need to write code to process and analyze the data\n",
      "* you'll need to visualize the data\n",
      "* you'll need to write narrative text\n",
      "* and possibly perform mathematical derivations\n",
      "* you'll need to record everything \n",
      "* share everything with collaborators and finally, \n",
      "* you'll need to present the story to different audiences.\n",
      "\n",
      "The IPython Notebook is an open source web-based interactive computing \n",
      "environment for python and other languages that helps you tell stories using data.\n",
      "\n",
      "As its core, the notebook is designed for writing and running code.\n",
      "For that, you can use the full power of python and its many\n",
      "libraries or even collate other languages such as R (Author Note: or ferret)\n",
      "but in addition to that, the notebook allows you to \n",
      "build shareable documents that combine that \n",
      "* Code with\n",
      "* Text\n",
      "* Equations\n",
      "* Visualisations\n",
      "* Images and\n",
      "* Video\n",
      "\n",
      "In other words everything that is part of the story you are telling.\n",
      "[...]"
     ]
    },
    {
     "cell_type": "markdown",
     "metadata": {
      "slideshow": {
       "slide_type": "skip"
      }
     },
     "source": [
      "<img src=\"files/images/line_separator2.png\" width=20%/>"
     ]
    },
    {
     "cell_type": "heading",
     "level": 2,
     "metadata": {
      "slideshow": {
       "slide_type": "skip"
      }
     },
     "source": [
      "Your first example"
     ]
    },
    {
     "cell_type": "code",
     "collapsed": false,
     "input": [
      "t = arange(0.0, 5.0, 0.01)\n",
      "s = sin(3*pi*t)\n",
      "plot(t, s, linewidth=4.0, color='r')\n",
      "\n",
      "xlabel('time (s)')\n",
      "ylabel('voltage (mV)')\n",
      "title('About as simple as it gets, folks')\n",
      "grid(True)\n",
      "savefig(\"test.png\")\n",
      "show()"
     ],
     "language": "python",
     "metadata": {
      "slideshow": {
       "slide_type": "slide"
      }
     },
     "outputs": [
      {
       "metadata": {},
       "output_type": "display_data",
       "png": "[encoded data removed]",
       "text": [
        "<matplotlib.figure.Figure at 0xb134a1ec>"
       ]
      }
     ],
     "prompt_number": 3
    },
    {
     "cell_type": "markdown",
     "metadata": {},
     "source": [
      "<img src=\"files/images/line_separator2.png\" width=20%/>"
     ]
    },
    {
     "cell_type": "heading",
     "level": 2,
     "metadata": {
      "slideshow": {
       "slide_type": "slide"
      }
     },
     "source": [
      "The IPython Notebook: A web-based UI for writing and running code"
     ]
    },
    {
     "cell_type": "markdown",
     "metadata": {
      "slideshow": {
       "slide_type": "fragment"
      }
     },
     "source": [
      "The IPython Notebook is an open source (BSD) tool for telling **stories** with code and data that are:\n",
      "\n",
      "* Interactive\n",
      "* Exploratory\n",
      "* Collaborative\n",
      "* Open\n",
      "* Reproducible"
     ]
    },
    {
     "cell_type": "markdown",
     "metadata": {},
     "source": [
      "<img src=\"http://ipython.org/_static/sloangrant/9_home_fperez_prof_grants_1207-sloan-ipython_proposal_fig_ipython-notebook-specgram.png\" width=50% align=\"left\"/>"
     ]
    },
    {
     "cell_type": "heading",
     "level": 4,
     "metadata": {},
     "source": [
      "Start the IPython Notebook"
     ]
    },
    {
     "cell_type": "markdown",
     "metadata": {},
     "source": [
      "When you start the notebook, you can type\n",
      "\n",
      "$ ipython notebook --pylab\n",
      "\n",
      "or\n",
      "\n",
      "$ ipython notebook --pylab inline\n",
      "\n",
      "The result of the first is to set up the notebook so that matplotlib figures can be used interactively within the notebook. The result of the second is that figures are embedded statically within the notebook page.\n",
      "\n",
      "You can also specify that your directory of notebooks is ~/IPy_Notebooks with\n",
      "$ ipython notebook --pylab inline --notebook-dir=~/IPy_Notebooks"
     ]
    },
    {
     "cell_type": "heading",
     "level": 4,
     "metadata": {},
     "source": [
      "Loading Notebook Files"
     ]
    },
    {
     "cell_type": "markdown",
     "metadata": {},
     "source": [
      "You can also load IPython Notebooks that other people have created, saved as IPython Notebook files (File extension .ipynb.) \n",
      "Try downloading and opening some Notebook files from http://nbviewer.ipython.org/github/Unidata/tds-python-workshop or http://nbviewer.ipython.org/.\n",
      "\n",
      "<img src=\"files/images/download.png\" width=50% align=\"center\"/>\n",
      "\n",
      "After you download the Notebook file, move it into your IPython Notebook working directory and then choose File -> Open in Notebook to open it.\n",
      "\n",
      "That Notebook contains some additional code, and some suggestions for changes you can make by going back and editing the existing files. Take a few moments to play with the Notebook - rerun the cells, edit the cells to change them, don't be afraid to break things!"
     ]
    },
    {
     "cell_type": "heading",
     "level": 4,
     "metadata": {},
     "source": [
      "Loading Python Files"
     ]
    },
    {
     "cell_type": "markdown",
     "metadata": {},
     "source": [
      "You can also load a pre-existing Python file into an IPython Notebook cell by typing\n",
      "\n",
      "%load \"myprogram.py\"\n",
      "\n",
      "Into a cell and running it. This loads up a new cell containing the contents of myprogram.py.\n",
      "\n",
      "Test this feature out by loading one of the scripts you wrote during the recap session. You may have to specify the full path to the script file, depending on the directory IPython Notebook started up from.\n",
      "\n",
      "There is one other useful built-in tool for working with Python files:\n",
      "\n",
      "%run \"myprogram.py\"\n",
      "\n",
      "This will run myprogram.py and load the output into a Notebook cell."
     ]
    },
    {
     "cell_type": "markdown",
     "metadata": {},
     "source": [
      "<img src=\"files/images/line_separator2.png\" width=20%/>"
     ]
    },
    {
     "cell_type": "heading",
     "level": 2,
     "metadata": {
      "slideshow": {
       "slide_type": "slide"
      }
     },
     "source": [
      "The IPython project"
     ]
    },
    {
     "cell_type": "markdown",
     "metadata": {
      "slideshow": {
       "slide_type": "-"
      }
     },
     "source": [
      "<img src=\"http://ipython.org/_static/IPy_header.png\" width=400 align=\"left\"/>"
     ]
    },
    {
     "cell_type": "markdown",
     "metadata": {},
     "source": [
      "* [IPython](http://ipython.org): open source (BSD) interactive computing environment in Python\n",
      "* History:\n",
      "    - Started in 2001 by Fernando Perez (BDFL)\n",
      "    - The project now has an [extremely dedicated and talented team](https://github.com/ipython/ipython/contributors)\n",
      "* $>$ 20 person years of development, $>$ 150 contributors\n",
      "* IPython is the de facto standard environment for interactive work in Python\n",
      "* Funded by:\n",
      "    - Mostly by volunteers\n",
      "    - NASA, DOD/DRC, NIH\n",
      "    - Microsoft, Enthought\n",
      "    - Alfred P. Sloan Foundation ($1.15 million dollar grant starting in Jan. 2013)\n",
      "* Components:\n",
      "    - IPython Kernel\n",
      "        - Stateful computation engine\n",
      "        - Runs code and returns results\n",
      "        - Uses language agnostic JSON based message protocol over ZeroMQ/WebSockets\n",
      "    - Frontends:\n",
      "        - Terminal Console\n",
      "        - Qt Console\n",
      "        - Notebook\n",
      "    - Parallel computing framework"
     ]
    },
    {
     "cell_type": "markdown",
     "metadata": {},
     "source": [
      "<img src=\"files/images/line_separator2.png\" width=20%/>"
     ]
    },
    {
     "cell_type": "heading",
     "level": 2,
     "metadata": {
      "slideshow": {
       "slide_type": "slide"
      }
     },
     "source": [
      "What are IPython Notebook documents ?"
     ]
    },
    {
     "cell_type": "markdown",
     "metadata": {
      "slideshow": {
       "slide_type": "-"
      }
     },
     "source": [
      "* JSON files\n",
      "* Are stored as files in your local directory\n",
      "* Can store:\n",
      "    - **Code in any language**\n",
      "    - Text (Markdown)\n",
      "    - Equations (LaTeX)\n",
      "    - Images\n",
      "    - Links to video\n",
      "    - HTML\n",
      "* Can be version controlled\n",
      "    - Change 1 line of code, get a 1 line diff\n",
      "* Can be viewed by anyone online without IPython installed (<http://nbviewer.ipython.org/>)\n",
      "* Can be exported to HTML, Markdown, reStructured Text, LaTeX, PDF\n",
      "* Can be viewed as slideshows with live computations"
     ]
    },
    {
     "cell_type": "markdown",
     "metadata": {
      "slideshow": {
       "slide_type": "-"
      }
     },
     "source": [
      "We try to make writing code pleasant:\n",
      "\n",
      "* Tab completion\n",
      "* Integrated help\n",
      "* Syntax highlighting\n",
      "* Civilized multiline editing\n",
      "* Interactive shorthands (aliases, magics)"
     ]
    },
    {
     "cell_type": "markdown",
     "metadata": {
      "slideshow": {
       "slide_type": "slide"
      }
     },
     "source": [
      "Not just Python code though! Though cell magics (`%%`) the Notebook supports running code in other languages:\n",
      "\n",
      "* R\n",
      "* ferret (read https://github.com/ipython/ipython/wiki/Extensions-Index#ferret)\n",
      "* Octave\n",
      "* Cython\n",
      "* Bash\n",
      "* Perl\n",
      "* Ruby\n",
      "* Julia\n",
      "* etc."
     ]
    },
    {
     "cell_type": "code",
     "collapsed": false,
     "input": [
      "%%bash\n",
      "echo \"Hello bash world\""
     ],
     "language": "python",
     "metadata": {
      "slideshow": {
       "slide_type": "fragment"
      }
     },
     "outputs": [
      {
       "output_type": "stream",
       "stream": "stdout",
       "text": [
        "Hello bash world\n"
       ]
      }
     ],
     "prompt_number": 28
    },
    {
     "cell_type": "markdown",
     "metadata": {},
     "source": [
      "You can enter latex directly with the %%latex cell magic:"
     ]
    },
    {
     "cell_type": "code",
     "collapsed": false,
     "input": [
      "%%latex\n",
      "\\begin{aligned}\n",
      "\\nabla \\times \\vec{\\mathbf{B}} -\\, \\frac1c\\, \\frac{\\partial\\vec{\\mathbf{E}}}{\\partial t} & = \\frac{4\\pi}{c}\\vec{\\mathbf{j}} \\\\\n",
      "\\nabla \\cdot \\vec{\\mathbf{E}} & = 4 \\pi \\rho \\\\\n",
      "\\nabla \\times \\vec{\\mathbf{E}}\\, +\\, \\frac1c\\, \\frac{\\partial\\vec{\\mathbf{B}}}{\\partial t} & = \\vec{\\mathbf{0}} \\\\\n",
      "\\nabla \\cdot \\vec{\\mathbf{B}} & = 0\n",
      "\\end{aligned}"
     ],
     "language": "python",
     "metadata": {},
     "outputs": [
      {
       "latex": [
        "\\begin{aligned}\n",
        "\\nabla \\times \\vec{\\mathbf{B}} -\\, \\frac1c\\, \\frac{\\partial\\vec{\\mathbf{E}}}{\\partial t} & = \\frac{4\\pi}{c}\\vec{\\mathbf{j}} \\\\\n",
        "\\nabla \\cdot \\vec{\\mathbf{E}} & = 4 \\pi \\rho \\\\\n",
        "\\nabla \\times \\vec{\\mathbf{E}}\\, +\\, \\frac1c\\, \\frac{\\partial\\vec{\\mathbf{B}}}{\\partial t} & = \\vec{\\mathbf{0}} \\\\\n",
        "\\nabla \\cdot \\vec{\\mathbf{B}} & = 0\n",
        "\\end{aligned}"
       ],
       "metadata": {},
       "output_type": "display_data",
       "text": [
        "<IPython.core.display.Latex at 0x94d47ec>"
       ]
      }
     ],
     "prompt_number": 1
    },
    {
     "cell_type": "markdown",
     "metadata": {},
     "source": [
      "You can do the same with R or octave.\n",
      "  * http://nbviewer.ipython.org/github/ipython/ipython/blob/3607712653c66d63e0d7f13f073bde8c0f209ba8/docs/examples/notebooks/rmagic_extension.ipynb\n",
      "  * http://nbviewer.ipython.org/github/ipython/ipython/blob/3607712653c66d63e0d7f13f073bde8c0f209ba8/docs/examples/notebooks/octavemagic_extension.ipynb"
     ]
    },
    {
     "cell_type": "markdown",
     "metadata": {},
     "source": [
      "<img src=\"files/images/line_separator2.png\" width=20%/>"
     ]
    },
    {
     "cell_type": "markdown",
     "metadata": {},
     "source": [
      "# Essential Shortcuts\n",
      "\n",
      "* ``Esc/Enter``: Mode Switch\n",
      "* ``j/k``: Move up/down\n",
      "* Execute Cells\n",
      "    * ``Shift-Enter``: Run and go down\n",
      "    * ``Alt-Enter``: Run and make new\n",
      "    * ``Control-Enter``: Run in place\n",
      "* ``a/b``: Insert cell above/below\n",
      "* ``x``: cut cell\n",
      "* Cell mode switch:\n",
      "    * `r`: raw\n",
      "    * `m`: markdown\n",
      "    * `y`: p**y**thon code\n",
      "\n",
      "<img src=\"files/images/ExecutingCells.png\" width=40% align=\"center\"/>"
     ]
    },
    {
     "cell_type": "markdown",
     "metadata": {},
     "source": [
      "<img src=\"files/images/line_separator2.png\" width=20%/>"
     ]
    },
    {
     "cell_type": "markdown",
     "metadata": {},
     "source": [
      "# Building slides\n",
      "\n",
      "* Turn on the 'slideshow' cell toolbar\n",
      "* Types:\n",
      "    * Slide: start a new slide\n",
      "    * ``-``: Continue a slide\n",
      "    * Sub-Slide: Make a 'down' slide\n",
      "    * Fragment: Make a 'bullet' type incoming slide\n",
      "    * Skip: keep in the notebook, not the deck\n",
      "    * Notes: speaker notes\n",
      "    \n",
      "Then type\n",
      "ipython nbconvert Presentation.ipynb --to slides"
     ]
    },
    {
     "cell_type": "markdown",
     "metadata": {},
     "source": [
      "<img src=\"files/images/line_separator2.png\" width=20%/>"
     ]
    },
    {
     "cell_type": "heading",
     "level": 2,
     "metadata": {
      "slideshow": {
       "slide_type": "slide"
      }
     },
     "source": [
      "Installation and use"
     ]
    },
    {
     "cell_type": "heading",
     "level": 4,
     "metadata": {},
     "source": [
      "Standalone installation"
     ]
    },
    {
     "cell_type": "markdown",
     "metadata": {},
     "source": [
      "* My recommendation is to install the completely free Python distribution called Anaconda\n",
      "    - http://continuum.io/downloads\n",
      "\n",
      "<img src=\"files/images/anaconda01.png\" width=40% align=\"left\"/>\n"
     ]
    },
    {
     "cell_type": "heading",
     "level": 4,
     "metadata": {},
     "source": [
      "On asterixN, obelixN (LSCE), curie (TGCC) or ciclad (IPSL) machines "
     ]
    },
    {
     "cell_type": "markdown",
     "metadata": {},
     "source": [
      "<img src=\"files/images/ssh.jpg\" align=\"left\"/>\n",
      "Chained SSH connections through a proxy gateway\n",
      "\n",
      "Read more at http://oreilly.com/catalog/sshtdg/chapter/ch11.html"
     ]
    },
    {
     "cell_type": "markdown",
     "metadata": {},
     "source": [
      "1. Make an ssh tunnel (through a gateway or not) to the remote machine from your local machine (replace XXXXX,... by appropriate logins)\n",
      "1. Launch IPython Notebook in the remote terminal\n",
      "1. Open a browser on your local machine\n",
      "\n",
      "**On obelixN (LSCE)**\n",
      "  * ssh -t -L70xx:localhost:70xx XXXXX@idefix1.extra.cea.fr ssh -L70xx:localhost:70xx YYYYY@obelix.lscelb.extra.cea.fr\n",
      "  * module load python/2.7.5\n",
      "  * module load r/3.0.1 (if you want to use the R magic extension, use in IPython Notebook %load_ext rpy2.ipython)\n",
      "  * ipython notebook --pylab inline --no-browser --port=70xx --notebook-dir=~/IPy_Notebooks\n",
      "   \n",
      "**On curie (TGCC)**\n",
      "  * ssh -t -L70xx:localhost:70xx XXXXX@idefix1.extra.cea.fr ssh -L70xx:localhost:70xx YYYYY@curie-ccrt.ccc.cea.fr\n",
      "  * module load python/2.7.3\n",
      "  * module load R/3.0.2 (if you want to use the R magic extension, use in IPython Notebook %load_ext rpy2.ipython)\n",
      "  * module load octave/3.6.3 (if you want to use octave magic extensions)\n",
      "  * ipython notebook --pylab inline --no-browser --port=70xx --notebook-dir=~/IPy_Notebooks\n",
      "   \n",
      "**On ciclad-ng (IPSL)**\n",
      "  * ssh -t -L70xx:localhost:70xx XXXXX@ciclad-ng.ipsl.jussieu.fr\n",
      "  * /opt/canopy-1.4.1/Canopy_64bit/User/bin/ipython notebook --pylab inline --no-browser --port=70xx --notebook-dir=~/IPy_Notebooks\n",
      "   \n",
      "\n",
      "Beware not sharing the same port number, indicated above as 70xx. Please visit and update http://wiki.ipsl.jussieu.fr/IGCMG/Outils/IPython_Notebook with an available port number.\n",
      "\n",
      "Now, you should be able to work **directly** on the remote file system from **the browser of your local machine** (NOT the remote cluster or marchine) by opening http://localhost:70xx\n",
      "\n",
      "<span style=\"color:darkred; font-weight:bold\">Remember that ressources from cluster machines are shared among many users. So please shutdown notebooks that are not used anymore (press the red button to do so) and shutdown the notebook server when finish your work (press twice CTRL+C in the console you launch the server). The notebook server has an autosave system and you will certainly find back your notebook in the state you let it.</span>"
     ]
    },
    {
     "cell_type": "markdown",
     "metadata": {},
     "source": [
      "<img src=\"files/images/line_separator2.png\" width=20%/>"
     ]
    },
    {
     "cell_type": "heading",
     "level": 2,
     "metadata": {},
     "source": [
      "Publish to share your notebooks with gist or gitHub"
     ]
    },
    {
     "cell_type": "markdown",
     "metadata": {},
     "source": [
      "When ready to publish:\n",
      "\n",
      "* choose File -> Save in the notebook menu\n",
      "* in the directory where you run the notebook, find .ipynb file (or do File -> Download as -> IPython (.ipynb)); it is a JSON file\n",
      "* paste this JSON on http://gist.github.com/ or other pastebin service\n",
      "* go to http://nbviewer.ipython.org/ and insert Gist's URL (any public URL works)\n",
      "\n",
      "You can also use gitHub and structure all your notebooks in a repository as https://github.com/PBrockmann/IPy_Notebooks and browsable from http://nbviewer.ipython.org/github/PBrockmann/IPy_Notebooks"
     ]
    },
    {
     "cell_type": "markdown",
     "metadata": {},
     "source": [
      "<img src=\"files/images/line_separator2.png\" width=20%/>"
     ]
    },
    {
     "cell_type": "heading",
     "level": 2,
     "metadata": {},
     "source": [
      "A very good talk from Josh Barratt at last OSCON 2014 (Open Source Conference - July 20\u201324, 2014 Portland)"
     ]
    },
    {
     "cell_type": "code",
     "collapsed": false,
     "input": [
      "from IPython.display import YouTubeVideo\n",
      "YouTubeVideo('XkXXpaVpNSc')"
     ],
     "language": "python",
     "metadata": {},
     "outputs": [
      {
       "html": [
        "\n",
        "        <iframe\n",
        "            width=\"400\"\n",
        "            height=300\"\n",
        "            src=\"https://www.youtube.com/embed/XkXXpaVpNSc\"\n",
        "            frameborder=\"0\"\n",
        "            allowfullscreen\n",
        "        ></iframe>\n",
        "        "
       ],
       "metadata": {},
       "output_type": "pyout",
       "prompt_number": 2,
       "text": [
        "<IPython.lib.display.YouTubeVideo at 0xb1c3560c>"
       ]
      }
     ],
     "prompt_number": 2
    },
    {
     "cell_type": "markdown",
     "metadata": {},
     "source": [
      "<img src=\"files/images/line_separator2.png\" width=20%/>"
     ]
    },
    {
     "cell_type": "markdown",
     "metadata": {},
     "source": [
      "An article from Nature that describes the IPython notebook in a study on Workflow software Platforms<br>\n",
      "http://www.nature.com/naturejobs/2014/140327/pdf/nj7493-523a.pdf"
     ]
    },
    {
     "cell_type": "markdown",
     "metadata": {},
     "source": [
      "<img src=\"files/images/line_separator2.png\" width=20%/>"
     ]
    },
    {
     "cell_type": "markdown",
     "metadata": {},
     "source": [
      "**Original workflow** \n",
      "* slow (read whole data file each time, lots of context switching)\n",
      "* version controlled analysis, but not commentary, difficult to 'go back to'\n",
      "* Automating requires non-trivial additional dev\n",
      "<img src=\"files/images/original_report_flow.png\" width=20% /> \n",
      "<hr>"
     ]
    },
    {
     "cell_type": "markdown",
     "metadata": {},
     "source": [
      "**Now workflow**\n",
      " * Speedups primarily from no context switching, interactivity, and reusable data loading.\n",
      " * Reproducible, literate, annotatable, *auditable*.\n",
      " <img src=\"files/images/now_report_flow.png\" width=20%/>"
     ]
    },
    {
     "cell_type": "markdown",
     "metadata": {},
     "source": [
      "<img src=\"files/images/line_separator2.png\" width=20% />"
     ]
    },
    {
     "cell_type": "heading",
     "level": 2,
     "metadata": {
      "slideshow": {
       "slide_type": "slide"
      }
     },
     "source": [
      "Conclusion"
     ]
    },
    {
     "cell_type": "markdown",
     "metadata": {},
     "source": [
      "The IPython Notebook provides an open source environment and foundation for telling stories with code and data.<br>\n",
      "It puts the fun back into working with code and data\n",
      "\n",
      "It is finally all about a documented and reproductible workflow that brings you a fluid transition between:\n",
      " * Exploratory work\n",
      " * Collaborative development\n",
      " * Production\n",
      " * Publication\n",
      " * Communication \n",
      "\n",
      "<img src=\"files/images/workflow.png\" width=50% align=\"left\"/>"
     ]
    },
    {
     "cell_type": "markdown",
     "metadata": {},
     "source": [
      "<img src=\"files/images/line_separator2.png\" width=20%/>"
     ]
    },
    {
     "cell_type": "heading",
     "level": 2,
     "metadata": {},
     "source": [
      "My selection of lectures or interesting notebooks "
     ]
    },
    {
     "cell_type": "markdown",
     "metadata": {},
     "source": [
      "**Official website**\n",
      "  * Visit the [IPython website](http://ipython.org/index.html)\n",
      "  \n",
      "**A good introduction**\n",
      "* http://opentechschool.github.io/python-data-intro/core/notebook.html\n",
      "\n",
      "**Lectures organized by Unidata team**\n",
      "* http://nbviewer.ipython.org/github/Unidata/tds-python-workshop\n",
      "\n",
      "**The ferret extension for pyferret**\n",
      "* http://nbviewer.ipython.org/github/PBrockmann/ipython-ferretmagic\n",
      "\n",
      "**Must have python packages**\n",
      "* numpy\n",
      "    - http://www.numpy.org/\n",
      "    - http://nbviewer.ipython.org/github/jrjohansson/scientific-python-lectures/blob/master/Lecture-2-Numpy.ipynb\n",
      "* netCDF4\n",
      "    - https://code.google.com/p/netcdf4-python/\n",
      "    - http://nbviewer.ipython.org/github/Unidata/unidata-python-workshop/blob/master/reading_netCDF.ipynb\n",
      "* matplotlib\n",
      "    - http://matplotlib.org/\n",
      "    - http://nbviewer.ipython.org/github/jrjohansson/scientific-python-lectures/blob/master/Lecture-4-Matplotlib.ipynb\n",
      "* pandas\n",
      "    - http://pandas.pydata.org/\n",
      "    - http://nbviewer.ipython.org/gist/rsignell-usgs/4740419\n",
      "* cdo.py\n",
      "    - https://code.zmaw.de/projects/cdo/wiki/Cdo{rbpy}\n",
      "* cartopy\n",
      "    - http://scitools.org.uk/cartopy/docs/latest/index.html\n",
      "    - http://nbviewer.ipython.org/github/rsignell-usgs/notebook/blob/master/Cartopy%20Examples.ipynb\n",
      "\n",
      "**Promising packages**\n",
      "* mpld3\n",
      "    - http://mpld3.github.io/\n",
      "    - Jake Vanderplas - Python in the Browser Age: Data Exploration in the IPython Notebook https://www.youtube.com/watch?v=NzX7DDRkecU\n",
      "\n",
      "**Collection of notebooks**\n",
      "* https://github.com/ipython/ipython/wiki/A-gallery-of-interesting-IPython-Notebooks\n",
      "* http://earthpy.org/"
     ]
    },
    {
     "cell_type": "markdown",
     "metadata": {},
     "source": [
      "<img src=\"files/images/line_separator2.png\" width=20%/>"
     ]
    },
    {
     "cell_type": "heading",
     "level": 2,
     "metadata": {},
     "source": [
      "Issues of interest"
     ]
    },
    {
     "cell_type": "markdown",
     "metadata": {},
     "source": [
      "* IPython Notebook run as a server\n",
      "* Cluster usage and parallel computing from notebooks\n",
      "* Setting a private nbviewer\n",
      "\n",
      "Please contact me <Patrick.Brockmann@lsce.ipsl.fr>"
     ]
    }
   ],
   "metadata": {}
  }
 ]
}