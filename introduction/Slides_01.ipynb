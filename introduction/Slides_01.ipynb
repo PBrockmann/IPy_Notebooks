{
 "metadata": {
  "celltoolbar": "Slideshow",
  "name": "",
  "signature": "sha256:20fbcdbdae5716242645a3aff8a51e3ec48697e601406b03f3d571df066df82b"
 },
 "nbformat": 3,
 "nbformat_minor": 0,
 "worksheets": [
  {
   "cells": [
    {
     "cell_type": "heading",
     "level": 1,
     "metadata": {
      "slideshow": {
       "slide_type": "slide"
      }
     },
     "source": [
      "The IPython Notebook: A Comprehensive Tool for Data Science"
     ]
    },
    {
     "cell_type": "heading",
     "level": 5,
     "metadata": {},
     "source": [
      "- created 16 setembre 2014 "
     ]
    },
    {
     "cell_type": "markdown",
     "metadata": {},
     "source": [
      "Patrick BROCKMANN - LSCE (Climate and Environment Sciences Laboratory)<br>\n",
      "\n",
      "<img align=\"left\" width=\"50%\" src=\"http://www.lsce.ipsl.fr/Css/img/banniere_LSCE_75.png\" \\><br><br>\n"
     ]
    },
    {
     "cell_type": "markdown",
     "metadata": {},
     "source": [
      "<img align=\"left\" width=\"50%\" src=\"http://ipython.org/_static/IPy_header.png\" \\>\n"
     ]
    },
    {
     "cell_type": "markdown",
     "metadata": {
      "slideshow": {
       "slide_type": "slide"
      }
     },
     "source": [
      "# What is the notebook?\n",
      "\n",
      "## A \"browser-based interactive computing environment\" \n",
      "\n",
      "<img src=\"files/images/NotebookScreenshot.png\" width=\"60%\"/>"
     ]
    },
    {
     "cell_type": "markdown",
     "metadata": {
      "slideshow": {
       "slide_type": "slide"
      }
     },
     "source": [
      "# Run 'ipython notebook'\n",
      "\n",
      "<img src=\"files/images/03_Process.png\" width=\"60%\"/>\n",
      "\n",
      "<small>WebSocket is a protocol providing full-duplex communications channels over a single TCP connection.</small>"
     ]
    },
    {
     "cell_type": "markdown",
     "metadata": {
      "slideshow": {
       "slide_type": "slide"
      }
     },
     "source": [
      "# Browser launches\n",
      "\n",
      "<img src=\"files/images/04_Tree.png\" width=\"60%\"/>"
     ]
    },
    {
     "cell_type": "markdown",
     "metadata": {
      "slideshow": {
       "slide_type": "slide"
      }
     },
     "source": [
      "# Build a notebook\n",
      "\n",
      "<img src=\"files/images/05_Notebook.png\" width=\"60%\"/>\n",
      "\n",
      "Actually, it's a process per open notebook."
     ]
    },
    {
     "cell_type": "markdown",
     "metadata": {
      "slideshow": {
       "slide_type": "slide"
      }
     },
     "source": [
      "# Run a cell\n",
      "\n",
      "<img src=\"files/images/07_Websocket.png\" width=\"60%\" />"
     ]
    },
    {
     "cell_type": "markdown",
     "metadata": {
      "slideshow": {
       "slide_type": "slide"
      }
     },
     "source": [
      "# No need to be Local...\n",
      "\n",
      "<img src=\"files/images/ssh.jpg\" align=\"left\"/>\n",
      "Chained SSH connections through a proxy gateway\n",
      "\n",
      "Access to our clusters (LSCE, TGCC, IPSL) and work directly on their file systems from your browser"
     ]
    },
    {
     "cell_type": "markdown",
     "metadata": {
      "slideshow": {
       "slide_type": "slide"
      }
     },
     "source": [
      "# My old workflow\n",
      "\n",
      "<img src=\"files/images/original_report_flow.png\"/>\n",
      "\n",
      "Problems: \n",
      "\n",
      "* slow (read whole data file each time, lots of context switching)\n",
      "* version controlled analysis, but not commentary, difficult to 'go back to'\n",
      "* Automating requires non-trivial additional dev\n",
      "\n"
     ]
    },
    {
     "cell_type": "markdown",
     "metadata": {
      "slideshow": {
       "slide_type": "slide"
      }
     },
     "source": [
      "# My actual workflow\n",
      "\n",
      "Speedups primarily from no context switching, interactivity, and reusable data loading.\n",
      "\n",
      "<img src=\"files/images/now_report_flow.png\"/>\n",
      "\n",
      "Reproducible, annotable.\n"
     ]
    },
    {
     "cell_type": "markdown",
     "metadata": {
      "slideshow": {
       "slide_type": "slide"
      }
     },
     "source": [
      "# Notebook workflows: the big picture\n",
      "\n",
      "<img src=\"files/images/IPynbWorkflows.png\" width=\"60%\"/>\n"
     ]
    },
    {
     "cell_type": "markdown",
     "metadata": {
      "slideshow": {
       "slide_type": "slide"
      }
     },
     "source": [
      "# Use case: Wiki publishing, Blog publishing\n",
      "\n",
      "Also can work for HTML emails, etc.\n",
      "\n",
      "<img src=\"files/images/WikiConversion.png\" width=\"60%\"/>"
     ]
    },
    {
     "cell_type": "markdown",
     "metadata": {
      "slideshow": {
       "slide_type": "slide"
      }
     },
     "source": [
      "# Sharing notebooks\n",
      "\n",
      "<img src=\"files/images/NBViewer.png\" width=\"60%\"/>"
     ]
    },
    {
     "cell_type": "markdown",
     "metadata": {
      "slideshow": {
       "slide_type": "slide"
      }
     },
     "source": [
      "# Extensions \n",
      "\n",
      "Not just Python code though! Though cell magics (`%%`) the Notebook supports running code in other languages:\n",
      "\n",
      "* R\n",
      "* ferret (read https://github.com/ipython/ipython/wiki/Extensions-Index#ferret)\n",
      "* Octave\n",
      "* Cython\n",
      "* Bash\n",
      "* Perl\n",
      "* Ruby\n",
      "* Julia\n",
      "* etc."
     ]
    },
    {
     "cell_type": "markdown",
     "metadata": {
      "slideshow": {
       "slide_type": "slide"
      }
     },
     "source": [
      "# 3 illustrating notebooks or reproducible academic publications\n",
      "    \n",
      " * Warming Ocean Threatens Sea Life\n",
      "    * http://nbviewer.ipython.org/github/robertodealmeida/notebooks/blob/master/scientific_american/Scientific%20American%20graph.ipynb\n",
      " * Analyzing whale tracks    \n",
      "    * http://nbviewer.ipython.org/github/robertodealmeida/notebooks/blob/master/earth_day_data_challenge/Analyzing%20whale%20tracks.ipynb\n",
      " * Exploring Climate Data: Past and Future\n",
      "    * http://nbviewer.ipython.org/gist/rsignell-usgs/4251308\n",
      " * and many others from\n",
      "    * https://github.com/ipython/ipython/wiki/A-gallery-of-interesting-IPython-Notebooks#reproducible-academic-publications"
     ]
    },
    {
     "cell_type": "markdown",
     "metadata": {
      "slideshow": {
       "slide_type": "slide"
      }
     },
     "source": [
      "# Conclusion\n",
      "\n",
      "The IPython Notebook provides an open source environment and foundation for telling stories with code and data.<br>\n",
      "It puts the fun back into working with code and data\n",
      "\n",
      "<img src=\"files/images/workflow.png\" width=50% align=\"left\"/>"
     ]
    },
    {
     "cell_type": "markdown",
     "metadata": {},
     "source": [
      "It is finally all about a documented and reproductible workflow that brings you a fluid transition between:\n",
      "\n",
      "* Exploratory work\n",
      "* Collaborative development\n",
      "* Production\n",
      "* Publication\n",
      "* Communication"
     ]
    },
    {
     "cell_type": "markdown",
     "metadata": {
      "slideshow": {
       "slide_type": "slide"
      }
     },
     "source": [
      "# Next steps\n",
      "\n",
      "* IPython notebook workshop every 2 weeks\n",
      "* Ipython notebook contest\n",
      "* Ask for gitLab (GitLab is a github like service that organizations can use to provide internal management of git repositories)\n",
      "* Explore cluster usage and parallel computing from notebooks\n",
      "\n",
      "<small>(thanks to Josh Barratt for the many figures I borrowed from his talk http://www.youtube.com/watch?v=XkXXpaVpNSc)</small>"
     ]
    },
    {
     "cell_type": "code",
     "collapsed": false,
     "input": [],
     "language": "python",
     "metadata": {},
     "outputs": []
    }
   ],
   "metadata": {}
  }
 ]
}